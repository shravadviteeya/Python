{
 "cells": [
  {
   "cell_type": "code",
   "execution_count": 9,
   "metadata": {},
   "outputs": [
    {
     "name": "stdout",
     "output_type": "stream",
     "text": [
      "enter any string and it will print the reverse of the string : SAI\n"
     ]
    },
    {
     "data": {
      "text/plain": [
       "'IAS'"
      ]
     },
     "execution_count": 9,
     "metadata": {},
     "output_type": "execute_result"
    }
   ],
   "source": [
    "s = input(\"enter any string and it will print the reverse of the string : \")\n",
    "s[: : -1]"
   ]
  },
  {
   "cell_type": "code",
   "execution_count": 39,
   "metadata": {},
   "outputs": [
    {
     "name": "stdout",
     "output_type": "stream",
     "text": [
      "enter any string and it will print the reverse of the string : SAI\n",
      "['I', 'A', 'S']\n"
     ]
    }
   ],
   "source": [
    "s = list(input(\"enter any string and it will print the reverse of the string : \"))\n",
    "rev = (reversed(s))\n",
    "print(list(rev))\n",
    "        "
   ]
  },
  {
   "cell_type": "code",
   "execution_count": 67,
   "metadata": {},
   "outputs": [
    {
     "name": "stdout",
     "output_type": "stream",
     "text": [
      "enter any string and it will print the reverse of the string : SAI\n",
      "The reverse string is IAS\n"
     ]
    }
   ],
   "source": [
    "s = input(\"enter any string and it will print the reverse of the string : \")\n",
    "i = s\n",
    "reverse = ''\n",
    "while(len(i) > 0):\n",
    "   if(len(i) > 0):\n",
    "      a = i[-1]\n",
    "      i = i[:-1]\n",
    "      reverse = reverse+a\n",
    "\n",
    "\n",
    "print('The reverse string is', reverse)"
   ]
  },
  {
   "cell_type": "code",
   "execution_count": 69,
   "metadata": {},
   "outputs": [],
   "source": [
    "# Program to Reverse Order of Words\n",
    "# EX: Input: Learning Python is very Easy\n",
    "#     Output: Easy Very is Python Learning\n"
   ]
  },
  {
   "cell_type": "code",
   "execution_count": 78,
   "metadata": {},
   "outputs": [
    {
     "name": "stdout",
     "output_type": "stream",
     "text": [
      "Enter any string: Learning Python is very Easy\n",
      "ysaE yrev si nohtyP gninraeL\n"
     ]
    }
   ],
   "source": [
    "string1 = input(\"Enter any string: \")\n",
    "s = string1[: : -1]\n",
    "print(s)\n"
   ]
  },
  {
   "cell_type": "code",
   "execution_count": 94,
   "metadata": {},
   "outputs": [
    {
     "name": "stdout",
     "output_type": "stream",
     "text": [
      "Enter any string: Learning Python is very Easy\n",
      "['gninraeL', 'nohtyP', 'si', 'yrev', 'ysaE']\n"
     ]
    }
   ],
   "source": [
    "string1 = input(\"Enter any string: \")\n",
    "s = string1[: : -1]\n",
    "for i in s:\n",
    "    k = s.split(\" \")\n",
    "    for j in k:\n",
    "        l = k[: :-1]\n",
    "print(l)\n"
   ]
  },
  {
   "cell_type": "code",
   "execution_count": 113,
   "metadata": {},
   "outputs": [
    {
     "name": "stdout",
     "output_type": "stream",
     "text": [
      "Enter any string: Learning Python is very Easy\n",
      "ysaE\n"
     ]
    }
   ],
   "source": [
    "string1 = input(\"Enter any string: \")\n",
    "s = string1[: : -1]\n",
    "for i in s:\n",
    "    k = s.split(\" \")\n",
    "print(k[0])\n",
    "    \n"
   ]
  },
  {
   "cell_type": "code",
   "execution_count": 117,
   "metadata": {},
   "outputs": [],
   "source": [
    "# Program to Reverse Order of Words\n",
    "# EX: Input: Learning Python is very Easy\n",
    "#     Output: Easy Very is Python Learning"
   ]
  },
  {
   "cell_type": "code",
   "execution_count": 116,
   "metadata": {},
   "outputs": [
    {
     "name": "stdout",
     "output_type": "stream",
     "text": [
      "Easy very is Python Learning\n"
     ]
    }
   ],
   "source": [
    "string = \"Learning Python is very Easy\"\n",
    "# reversing words in a given string\n",
    "s = string.split()[::-1]\n",
    "l = []\n",
    "for i in s:\n",
    "    # appending reversed words to l\n",
    "    l.append(i)\n",
    "# printing reverse words\n",
    "print(\" \".join(l))"
   ]
  },
  {
   "cell_type": "code",
   "execution_count": 118,
   "metadata": {},
   "outputs": [],
   "source": [
    "\n",
    "# Program to Reverse Internal Content of each Word\n",
    "# EX: Input: Sai Software Solutions\n",
    "#     Output: iaS erawtfoS snoituloS"
   ]
  },
  {
   "cell_type": "code",
   "execution_count": 124,
   "metadata": {},
   "outputs": [
    {
     "name": "stdout",
     "output_type": "stream",
     "text": [
      "iaS erawtfoS snoituloS\n"
     ]
    }
   ],
   "source": [
    "string = \"Sai Software Solutions\"\n",
    "# reversing words in a given string\n",
    "s = string.split()[::-1]\n",
    "l = []\n",
    "for i in s:\n",
    "    # appending reversed words to l\n",
    "    l.append(i)\n",
    "# printing reverse words\n",
    "m = (\" \".join(l))\n",
    "n = m[: : -1]\n",
    "print(n)\n",
    "\n"
   ]
  },
  {
   "cell_type": "code",
   "execution_count": 125,
   "metadata": {},
   "outputs": [],
   "source": [
    "#Write a Program to Print Characters at Odd Position and Even Position for \n",
    " #  the given String?"
   ]
  },
  {
   "cell_type": "code",
   "execution_count": 184,
   "metadata": {},
   "outputs": [
    {
     "name": "stdout",
     "output_type": "stream",
     "text": [
      "characters at even position are :  ['a', 'd', 'a', 'd', 'a', 'f', 'd']\n",
      "characters at odd position are :  ['s', 'f', 's', 'f', 'd', 's', 'f']\n"
     ]
    }
   ],
   "source": [
    "s = \"asdfasdfadfsdf\"\n",
    "s = list(s)\n",
    "odd = []\n",
    "even = []\n",
    "for i in range(len(s)):\n",
    "    if i%2 == 0:\n",
    "        even.append(s[i])\n",
    "    else:\n",
    "        odd.append(s[i])\n",
    "print(\"characters at even position are : \", even)\n",
    "\n",
    "print(\"characters at odd position are : \", odd)\n",
    "        \n",
    "    "
   ]
  },
  {
   "cell_type": "code",
   "execution_count": 132,
   "metadata": {},
   "outputs": [
    {
     "name": "stdout",
     "output_type": "stream",
     "text": [
      "Characters at odd position ['H', 'h', 'w', 'r', ' ', 'o']\n",
      "Characters at even position:  ['i', 'o', 'a', 'e', 'y', 'u']\n"
     ]
    }
   ],
   "source": [
    "list1=\"Hihoware you\"\n",
    "list2 = [x for i, x in enumerate(list1) if i%2==0]\n",
    "list3 = [x for i, x in enumerate(list1) if i%2!=0]\n",
    "print(\"Characters at odd position\", list2)\n",
    "print(\"Characters at even position: \",list3)"
   ]
  },
  {
   "cell_type": "code",
   "execution_count": 142,
   "metadata": {},
   "outputs": [],
   "source": [
    "#Program to Merge Characters of 2 Strings into a Single String by taking \n",
    " #  Characters alternatively\n",
    "# Input: s1 = \"ravi\"\n",
    " #      s2 = \"reja\"\n",
    "  # Output: rraevjia"
   ]
  },
  {
   "cell_type": "code",
   "execution_count": 143,
   "metadata": {},
   "outputs": [],
   "source": []
  },
  {
   "cell_type": "code",
   "execution_count": 146,
   "metadata": {},
   "outputs": [
    {
     "name": "stdout",
     "output_type": "stream",
     "text": [
      "rraevjia\n"
     ]
    }
   ],
   "source": [
    "\n",
    "s1 = \"ravi\"\n",
    "s2 = \"reja\"\n",
    "merge_string = \"\"\n",
    "for i in range(len(s1)):\n",
    "    merge_string= merge_string+s1[i]\n",
    "    if i < len(s2):\n",
    "        merge_string= merge_string+s2[i]\n",
    "print(merge_string)"
   ]
  },
  {
   "cell_type": "code",
   "execution_count": 147,
   "metadata": {},
   "outputs": [],
   "source": [
    "#Write a Program to Sort the Characters of the String and First Alphabet \n",
    " #  Symbols followed by Numeric Values\n",
    "  # Input: B4A1D3\n",
    "  # Output: ABD134"
   ]
  },
  {
   "cell_type": "code",
   "execution_count": 148,
   "metadata": {},
   "outputs": [
    {
     "name": "stdout",
     "output_type": "stream",
     "text": [
      "['1', '3', '4', 'A', 'B', 'D']\n"
     ]
    }
   ],
   "source": [
    "input = \"B4A1D3\"\n",
    "s = sorted(input)\n",
    "print(s)"
   ]
  },
  {
   "cell_type": "code",
   "execution_count": 170,
   "metadata": {},
   "outputs": [
    {
     "ename": "TypeError",
     "evalue": "'str' object is not callable",
     "output_type": "error",
     "traceback": [
      "\u001b[0;31m---------------------------------------------------------------------------\u001b[0m",
      "\u001b[0;31mTypeError\u001b[0m                                 Traceback (most recent call last)",
      "\u001b[0;32m<ipython-input-170-c2f13b13cbff>\u001b[0m in \u001b[0;36m<module>\u001b[0;34m()\u001b[0m\n\u001b[1;32m      2\u001b[0m \u001b[0mstring\u001b[0m \u001b[0;34m=\u001b[0m \u001b[0;34m\"\"\u001b[0m\u001b[0;34m\u001b[0m\u001b[0m\n\u001b[1;32m      3\u001b[0m \u001b[0mmerge\u001b[0m \u001b[0;34m=\u001b[0m \u001b[0;34m\"\"\u001b[0m\u001b[0;34m\u001b[0m\u001b[0m\n\u001b[0;32m----> 4\u001b[0;31m \u001b[0mval\u001b[0m \u001b[0;34m=\u001b[0m \u001b[0minput\u001b[0m\u001b[0;34m(\u001b[0m\u001b[0;34m\"enter the string : \"\u001b[0m\u001b[0;34m)\u001b[0m\u001b[0;34m\u001b[0m\u001b[0m\n\u001b[0m\u001b[1;32m      5\u001b[0m \u001b[0;32mfor\u001b[0m \u001b[0mi\u001b[0m \u001b[0;32min\u001b[0m \u001b[0mrange\u001b[0m\u001b[0;34m(\u001b[0m\u001b[0mlen\u001b[0m\u001b[0;34m(\u001b[0m\u001b[0mval\u001b[0m\u001b[0;34m)\u001b[0m\u001b[0;34m)\u001b[0m\u001b[0;34m:\u001b[0m\u001b[0;34m\u001b[0m\u001b[0m\n\u001b[1;32m      6\u001b[0m     \u001b[0;32mif\u001b[0m \u001b[0mtype\u001b[0m\u001b[0;34m(\u001b[0m\u001b[0mval\u001b[0m\u001b[0;34m[\u001b[0m\u001b[0mi\u001b[0m\u001b[0;34m]\u001b[0m\u001b[0;34m)\u001b[0m\u001b[0;34m==\u001b[0m \u001b[0mint\u001b[0m\u001b[0;34m:\u001b[0m\u001b[0;34m\u001b[0m\u001b[0m\n",
      "\u001b[0;31mTypeError\u001b[0m: 'str' object is not callable"
     ]
    }
   ],
   "source": [
    "integer = \"\"\n",
    "string = \"\"\n",
    "merge = \"\"\n",
    "val = input(\"enter the string : \")\n",
    "for i in range(len(val)):\n",
    "    if type(val[i])== int:\n",
    "        integer = integer+val[i]\n",
    "        integer = sorted(integer)\n",
    "    elif type(val[i])== \"\":\n",
    "        string = string + val[i]\n",
    "        string = sorted(string)\n",
    "mege = string+integer\n",
    "print(mege)"
   ]
  },
  {
   "cell_type": "code",
   "execution_count": 171,
   "metadata": {},
   "outputs": [],
   "source": [
    "#Write a Program to Sort the Characters of the String and First Alphabet \n",
    " #  Symbols followed by Numeric Values\n",
    "  # Input: B4A1D3\n",
    "  # Output: ABD134"
   ]
  },
  {
   "cell_type": "code",
   "execution_count": 177,
   "metadata": {},
   "outputs": [
    {
     "name": "stdout",
     "output_type": "stream",
     "text": [
      "['A', 'B', 'D', '1', '3', '4']\n"
     ]
    }
   ],
   "source": [
    "s = \"B4A1D3\"\n",
    "s = list(s)\n",
    "numerics = []\n",
    "alphabets = []\n",
    "for i in s:\n",
    "    if i.isnumeric():\n",
    "        numerics.append(i)\n",
    "    else:\n",
    "        alphabets.append(i)\n",
    "res = sorted(alphabets)+ sorted(numerics)\n",
    "print(res)\n",
    "        "
   ]
  },
  {
   "cell_type": "code",
   "execution_count": 182,
   "metadata": {},
   "outputs": [
    {
     "name": "stdout",
     "output_type": "stream",
     "text": [
      "a\n",
      "s\n",
      "d\n",
      "f\n",
      "a\n",
      "s\n",
      "d\n",
      "f\n",
      "a\n",
      "d\n",
      "f\n",
      "s\n",
      "d\n",
      "f\n"
     ]
    }
   ],
   "source": [
    "s = \"asdfasdfadfsdf\"\n",
    "s = list(s)\n",
    "odd = []\n",
    "even = []\n",
    "for i in s:\n",
    "    print(i)\n"
   ]
  },
  {
   "cell_type": "code",
   "execution_count": null,
   "metadata": {},
   "outputs": [],
   "source": []
  }
 ],
 "metadata": {
  "kernelspec": {
   "display_name": "Python 3",
   "language": "python",
   "name": "python3"
  },
  "language_info": {
   "codemirror_mode": {
    "name": "ipython",
    "version": 3
   },
   "file_extension": ".py",
   "mimetype": "text/x-python",
   "name": "python",
   "nbconvert_exporter": "python",
   "pygments_lexer": "ipython3",
   "version": "3.7.0"
  }
 },
 "nbformat": 4,
 "nbformat_minor": 2
}
